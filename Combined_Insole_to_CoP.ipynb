{
 "cells": [
  {
   "cell_type": "markdown",
   "metadata": {
    "id": "sFyb0y7PUJOo"
   },
   "source": [
    "# 1D CNN Segmentation - Insole(vGRF) to 3D-GRFM"
   ]
  },
  {
   "cell_type": "markdown",
   "metadata": {
    "id": "W9vTr2NhcGAA"
   },
   "source": [
    "# Test GPU (Optional)\n",
    "Before Starting, kindly check the available GPU from the Google Server, GPU model and other related information. It might help!"
   ]
  },
  {
   "cell_type": "code",
   "execution_count": 1,
   "metadata": {},
   "outputs": [
    {
     "name": "stdout",
     "output_type": "stream",
     "text": [
      "Is CUDA enabled GPU Available? True\n",
      "GPU Number: 1\n",
      "Current GPU Index: 0\n",
      "GPU Type: NVIDIA GeForce RTX 3080 Ti Laptop GPU\n",
      "GPU Capability: (8, 6)\n",
      "Is GPU Initialized yet? True\n",
      "2.1.2+cu121\n"
     ]
    }
   ],
   "source": [
    "import torch\n",
    "print(\"Is CUDA enabled GPU Available?\", torch.cuda.is_available())\n",
    "print(\"GPU Number:\", torch.cuda.device_count())\n",
    "print(\"Current GPU Index:\", torch.cuda.current_device())\n",
    "print(\"GPU Type:\", torch.cuda.get_device_name(device=None))\n",
    "print(\"GPU Capability:\", torch.cuda.get_device_capability(device=None))\n",
    "print(\"Is GPU Initialized yet?\", torch.cuda.is_initialized())\n",
    "print(torch.__version__)"
   ]
  },
  {
   "cell_type": "code",
   "execution_count": 2,
   "metadata": {},
   "outputs": [
    {
     "name": "stderr",
     "output_type": "stream",
     "text": [
      "2025-03-08 01:06:02.651145: I tensorflow/core/util/port.cc:153] oneDNN custom operations are on. You may see slightly different numerical results due to floating-point round-off errors from different computation orders. To turn them off, set the environment variable `TF_ENABLE_ONEDNN_OPTS=0`.\n",
      "2025-03-08 01:06:02.710927: E external/local_xla/xla/stream_executor/cuda/cuda_fft.cc:477] Unable to register cuFFT factory: Attempting to register factory for plugin cuFFT when one has already been registered\n",
      "WARNING: All log messages before absl::InitializeLog() is called are written to STDERR\n",
      "E0000 00:00:1741385162.749517  286911 cuda_dnn.cc:8310] Unable to register cuDNN factory: Attempting to register factory for plugin cuDNN when one has already been registered\n",
      "E0000 00:00:1741385162.760013  286911 cuda_blas.cc:1418] Unable to register cuBLAS factory: Attempting to register factory for plugin cuBLAS when one has already been registered\n",
      "2025-03-08 01:06:02.812464: I tensorflow/core/platform/cpu_feature_guard.cc:210] This TensorFlow binary is optimized to use available CPU instructions in performance-critical operations.\n",
      "To enable the following instructions: AVX2 AVX_VNNI FMA, in other operations, rebuild TensorFlow with the appropriate compiler flags.\n"
     ]
    },
    {
     "name": "stdout",
     "output_type": "stream",
     "text": [
      "2.18.0\n",
      "[PhysicalDevice(name='/physical_device:CPU:0', device_type='CPU'), PhysicalDevice(name='/physical_device:GPU:0', device_type='GPU')]\n",
      "[PhysicalDevice(name='/physical_device:GPU:0', device_type='GPU')]\n"
     ]
    }
   ],
   "source": [
    "import tensorflow as tf\n",
    "print(tf.__version__)\n",
    "print(tf.config.experimental.list_physical_devices())\n",
    "print(tf.config.list_physical_devices('GPU'))"
   ]
  },
  {
   "cell_type": "markdown",
   "metadata": {
    "id": "tgW7r0C9TuZk"
   },
   "source": [
    "# Import Libraries"
   ]
  },
  {
   "cell_type": "code",
   "execution_count": 3,
   "metadata": {
    "id": "eMhBhz1CrMb3"
   },
   "outputs": [],
   "source": [
    "import os\n",
    "import re\n",
    "import h5py\n",
    "import scipy\n",
    "import random\n",
    "import pickle\n",
    "import json\n",
    "import gc\n",
    "import numpy as np\n",
    "import pandas as pd\n",
    "import seaborn as sns\n",
    "import scipy.io as sio\n",
    "import tensorflow as tf\n",
    "import matplotlib.pyplot as plt\n",
    "from sklearn.metrics import mean_squared_error, mean_absolute_error, r2_score, classification_report, confusion_matrix, root_mean_squared_error\n",
    "from sklearn.model_selection import train_test_split\n",
    "from pathlib import Path\n",
    "from tqdm import tqdm\n",
    "from scipy import stats, signal\n",
    "%matplotlib inline\n",
    "sns.set_style('white')\n",
    "from models import *\n",
    "from models.unet_variants import *\n",
    "from models.MLMRSNet import *"
   ]
  },
  {
   "cell_type": "markdown",
   "metadata": {
    "id": "b4tWmjn_kMZu"
   },
   "source": [
    "# Global Configurations"
   ]
  },
  {
   "cell_type": "code",
   "execution_count": 4,
   "metadata": {
    "id": "YZtdPlqmQ7Tj"
   },
   "outputs": [
    {
     "name": "stdout",
     "output_type": "stream",
     "text": [
      "['Fx', 'Fy', 'Fz', 'Mx', 'My', 'Mz', 'CoPx', 'CoPy', 'CoPz']\n",
      "[75.2, 65.1, 56.0, 80.8, 61.5, 81.0, 61.6, 62.4, 69.0]\n"
     ]
    }
   ],
   "source": [
    "task_num = 1\n",
    "start_fold = 1\n",
    "end_fold = 5\n",
    "target_quantity = 'CoPz'\n",
    "body_side = 'RL'\n",
    "movement_type = 'combined_insole_FP'\n",
    "FP_Channel_Info = ['Fx','Fy','Fz','Mx','My','Mz','CoPx','CoPy','CoPz']\n",
    "Insole_Channel_Info = ['p1','p2','p3','p4','p5','p6','p7','p8','p9','p10','p11','p12','p13','p14','p15','p16','acc1','acc2','acc3','ang1','ang2','ang3','Fy','CoPx','CoPy']\n",
    "weight_array = [75.2,65.1,56.0,80.8,61.5,81.0,61.6,62.4,69.0]\n",
    "print(FP_Channel_Info)\n",
    "print(weight_array)"
   ]
  },
  {
   "cell_type": "markdown",
   "metadata": {},
   "source": [
    "# Import and Prepare Data"
   ]
  },
  {
   "cell_type": "markdown",
   "metadata": {},
   "source": [
    "Load File and Extract"
   ]
  },
  {
   "cell_type": "code",
   "execution_count": null,
   "metadata": {
    "colab": {
     "base_uri": "https://localhost:8080/"
    },
    "executionInfo": {
     "elapsed": 672,
     "status": "ok",
     "timestamp": 1633009806554,
     "user": {
      "displayName": "Sakib Mahmud",
      "photoUrl": "https://lh3.googleusercontent.com/a-/AOh14Gg8lG2uTygQr7y6fmQUo67XXUtrCVGaEakj_P33Ft8=s64",
      "userId": "03961007737707022852"
     },
     "user_tz": -180
    },
    "id": "KjIqJqKSrhrA",
    "outputId": "6f6bbad4-6c09-470c-aac9-cfcb976bb8ce"
   },
   "outputs": [
    {
     "name": "stdout",
     "output_type": "stream",
     "text": [
      "<KeysViewHDF5 ['#refs#', '#subsystem#', 'data_CoM', 'data_EMG', 'data_Force_FP_LL', 'data_Force_FP_RL', 'data_IMU', 'data_Insole_LL', 'data_Insole_RL', 'label_EMG', 'label_FP', 'label_IMU', 'label_Insole', 'speedinfo', 'subinfo']>\n"
     ]
    }
   ],
   "source": [
    "# Import\n",
    "fl_Data_Walk = h5py.File(os.path.join('Data_Preprocessed_Walk.mat'), 'r')\n",
    "fl_Data_Run = h5py.File(os.path.join('Data_Preprocessed_Run.mat'), 'r')\n",
    "print(fl_Data_Walk.keys())\n",
    "# Left Leg (LL) Insole VGRF Data per sensor\n",
    "X_Data_LL_Walk = np.swapaxes(np.array(fl_Data_Walk['data_Insole_LL']),0,2)\n",
    "X_Data_LL_Run = np.swapaxes(np.array(fl_Data_Run['data_Insole_LL']),0,2)\n",
    "X_Data_LL = np.concatenate((X_Data_LL_Walk, X_Data_LL_Run), axis=0)\n",
    "X_Data_Labels = np.array(fl_Data_Walk['label_Insole'])\n",
    "print(X_Data_LL.shape)\n",
    "# Right Leg (RL) Insole VGRF Data per sensor\n",
    "X_Data_RL_Walk = np.swapaxes(np.array(fl_Data_Walk['data_Insole_RL']),0,2)\n",
    "X_Data_RL_Run = np.swapaxes(np.array(fl_Data_Run['data_Insole_RL']),0,2)\n",
    "X_Data_RL = np.concatenate((Y_Data_RL_Walk, Y_Data_RL_Run), axis=0)\n",
    "print(X_Data_RL.shape)\n",
    "# Left Leg (LL) CoP Data\n",
    "Y_Data_LL_Walk = np.swapaxes(np.array(fl_Data_Walk['data_Insole_LL']),0,2)\n",
    "Y_Data_LL_Run = np.swapaxes(np.array(fl_Data_Run['data_Insole_LL']),0,2)\n",
    "Y_Data_LL = np.concatenate((Y_Data_LL_Walk, Y_Data_LL_Run), axis=0)\n",
    "print(Y_Data_LL.shape)\n",
    "# Right Leg (RL) CoP Data\n",
    "Y_Data_RL_Walk = np.swapaxes(np.array(fl_Data_Walk['data_Insole_RL']),0,2)\n",
    "Y_Data_RL_Run = np.swapaxes(np.array(fl_Data_Run['data_Insole_RL']),0,2)\n",
    "Y_Data_RL = np.concatenate((X_Data_RL_Walk, X_Data_RL_Run), axis=0)\n",
    "print(Y_Data_RL.shape)\n",
    "Y_Label_sub_Walk = np.swapaxes(np.array(fl_Data_Walk['subinfo']),0,1)\n",
    "Y_Label_sub_Run = np.swapaxes(np.array(fl_Data_Run['subinfo']),0,1)\n",
    "Y_Label_sub = np.concatenate((Y_Label_sub_Walk, Y_Label_sub_Run), axis=0)\n",
    "print(Y_Label_sub.shape)\n",
    "Y_Label_speed_Walk = np.swapaxes(np.array(fl_Data_Walk['speedinfo']),0,1)\n",
    "Y_Label_speed_Run = np.swapaxes(np.array(fl_Data_Run['speedinfo']),0,1)\n",
    "Y_Label_speed = np.concatenate((Y_Label_speed_Walk, Y_Label_speed_Run), axis=0)\n",
    "print(Y_Label_speed.shape)\n",
    "Y_Label_LL_mode_Walk = np.zeros((Y_Data_LL_Walk.shape[0],1), dtype=int)\n",
    "Y_Label_LL_mode_Run = np.ones((Y_Data_LL_Run.shape[0],1), dtype=int)\n",
    "Y_Label_LL_mode = np.concatenate((Y_Label_LL_mode_Walk, Y_Label_LL_mode_Run), axis=0)\n",
    "print(Y_Label_LL_mode.shape)\n",
    "print(np.unique(Y_Label_LL_mode))\n",
    "Y_Label_RL_mode_Walk = np.zeros((Y_Data_RL_Walk.shape[0],1), dtype=int)\n",
    "Y_Label_RL_mode_Run = np.ones((Y_Data_RL_Run.shape[0],1), dtype=int)\n",
    "Y_Label_RL_mode = np.concatenate((Y_Label_RL_mode_Walk, Y_Label_RL_mode_Run), axis=0)\n",
    "print(Y_Label_RL_mode.shape)\n",
    "print(np.unique(Y_Label_RL_mode))\n",
    "# Check for NaNs and InFs\n",
    "data = pd.Series(X_Data_LL.ravel())\n",
    "print(data.isna().any())\n",
    "print(data.isin([np.inf, -np.inf]).any())\n",
    "data = pd.Series(X_Data_RL.ravel())\n",
    "print(data.isna().any())\n",
    "print(data.isin([np.inf, -np.inf]).any())\n",
    "data = pd.Series(Y_Data_LL.ravel())\n",
    "print(data.isna().any())\n",
    "print(data.isin([np.inf, -np.inf]).any())\n",
    "data = pd.Series(Y_Data_RL.ravel())\n",
    "print(data.isna().any())\n",
    "print(data.isin([np.inf, -np.inf]).any())\n",
    "del fl_Data_Walk, fl_Data_Run, X_Data_LL_Walk, X_Data_LL_Run, X_Data_RL_Walk, X_Data_RL_Run, Y_Data_LL_Walk, Y_Data_LL_Run, Y_Data_RL_Walk, Y_Data_RL_Run\n",
    "del Y_Label_sub_Walk, Y_Label_sub_Run, Y_Label_speed_Walk, Y_Label_speed_Run, Y_Label_LL_mode_Walk, Y_Label_LL_mode_Run, Y_Label_RL_mode_Walk, Y_Label_RL_mode_Run"
   ]
  },
  {
   "cell_type": "markdown",
   "metadata": {},
   "source": [
    "Select Task (Right or Left foot)"
   ]
  },
  {
   "cell_type": "code",
   "execution_count": null,
   "metadata": {},
   "outputs": [
    {
     "name": "stdout",
     "output_type": "stream",
     "text": [
      "(4737, 1024, 16)\n",
      "(4737, 1024, 1)\n",
      "(4737, 1)\n"
     ]
    }
   ],
   "source": [
    "if body_side == 'RL':\n",
    "    X_Data = X_Data_RL\n",
    "    Y_Data = Y_Data_RL\n",
    "    Y_Label_mode = Y_Label_RL_mode\n",
    "elif body_side == 'LL':\n",
    "    X_Data = X_Data_LL\n",
    "    Y_Data = Y_Data_LL\n",
    "    Y_Label_mode = Y_Label_LL_mode\n",
    "X_Data = X_Data[:,:,0:16]\n",
    "if target_quantity == 'CoPx':\n",
    "    Y_Data = np.expand_dims(Y_Data[:,:,23], axis=2)\n",
    "elif target_quantity == 'CoPz':\n",
    "    Y_Data = np.expand_dims(Y_Data[:,:,24], axis=2)\n",
    "print(X_Data.shape)\n",
    "print(Y_Data.shape)\n",
    "print(Y_Label_mode.shape)"
   ]
  },
  {
   "cell_type": "markdown",
   "metadata": {},
   "source": [
    "Select Channels (Optional)"
   ]
  },
  {
   "cell_type": "code",
   "execution_count": null,
   "metadata": {},
   "outputs": [],
   "source": [
    "# Remove Low Correlated Insole Channels\n",
    "print(X_Data.shape)\n",
    "sample_num = X_Data.shape[0]\n",
    "segment_length = X_Data.shape[1]\n",
    "num_channels = X_Data.shape[2]\n",
    "X_Data_Pruned = np.zeros((sample_num,segment_length,num_channels))\n",
    "Insole_Channels_Selected = []\n",
    "counter = 0\n",
    "for i in range(0,num_channels):\n",
    "    data_current_channel = X_Data[:,:,i]\n",
    "    data_current_channel_pcc, _ = stats.pearsonr(data_current_channel.ravel(), Y_Data.ravel())\n",
    "    data_current_channel_cos = np.dot(data_current_channel.ravel(),Y_Data.ravel())/(np.linalg.norm(data_current_channel.ravel())*np.linalg.norm(Y_Data.ravel()))\n",
    "    data_current_channel_rr = r2_score(data_current_channel.ravel(), Y_Data.ravel())\n",
    "    data_current_channel_var = np.var(data_current_channel.ravel())\n",
    "    if (data_current_channel_var > 0):\n",
    "        # if (data_current_channel_pcc > 0.05) and (data_current_channel_cos > 0.3):\n",
    "        if (np.abs(data_current_channel_pcc) > 0.1):\n",
    "            X_Data_Pruned[:,:,counter] = data_current_channel\n",
    "            Insole_Channels_Selected.append(Insole_Channel_Info[i])\n",
    "            print(Insole_Channel_Info[i])\n",
    "            print(data_current_channel_pcc)\n",
    "            # print(data_current_channel_cos)\n",
    "            # print(data_current_channel_rr)\n",
    "            counter = counter + 1\n",
    "X_Data_Pruned = X_Data_Pruned[:,:,0:counter]\n",
    "X_Data_Shape = X_Data_Pruned.shape\n",
    "num_channels = X_Data_Shape[2]\n",
    "print(X_Data_Shape)\n",
    "print(Insole_Channels_Selected)"
   ]
  },
  {
   "cell_type": "code",
   "execution_count": null,
   "metadata": {},
   "outputs": [],
   "source": [
    "## Remove highly intercorrelated channels\n",
    "# Convert Arrays to Python Dictionaries\n",
    "X_Data_Feature_List = Insole_Channels_Selected\n",
    "X_Data_Array = np.reshape(X_Data_Pruned,(X_Data_Pruned.shape[0]*X_Data_Pruned.shape[1],X_Data_Pruned.shape[2]))\n",
    "X_Data_Dict = pd.DataFrame(X_Data_Array,columns=X_Data_Feature_List)\n",
    "regex = re.compile(r\"\\[|\\]|<\", re.IGNORECASE)\n",
    "X_Data_Dict.columns = [regex.sub(\"_\", col) if any(x in str(col) for x in set(('[', ']', '<'))) else col for col in X_Data_Dict.columns.values]\n",
    "# Prune channels based on PCC\n",
    "thresh = 0.9  # VIF = 10\n",
    "vif_thresh = 10\n",
    "cor_matrix = X_Data_Dict.corr().abs()\n",
    "vif_matrix = 1/(1-cor_matrix)\n",
    "vif_array = np.array(vif_matrix).flatten()\n",
    "vif_array[~np.isfinite(vif_array)] = 0\n",
    "upper_tri = vif_matrix.where(np.triu(np.ones(vif_matrix.shape), k=1).astype(bool))\n",
    "to_drop = [column for column in upper_tri.columns if any(upper_tri[column] > vif_thresh)]\n",
    "X_Data_Updated_Dict = X_Data_Dict.drop(to_drop, axis=1)\n",
    "X_Data_Updated = np.reshape(X_Data_Updated_Dict, (X_Data_Pruned.shape[0],X_Data_Pruned.shape[1],X_Data_Updated_Dict.shape[1]))\n",
    "print(X_Data_Updated.shape)\n",
    "insole_sensors_Final = [x for x in X_Data_Dict.columns if x not in to_drop]\n",
    "print(insole_sensors_Final)\n",
    "\n",
    "# Plot Cross-correlation Heatmap\n",
    "plt.subplots(figsize=(14, 12))\n",
    "low_tri_matrix = np.triu(1/(1-X_Data_Dict.corr()))\n",
    "res = sns.heatmap(1/(1-X_Data_Dict.corr()), vmin=0, vmax=np.max(vif_array), annot=True, annot_kws={\"size\": 14}, fmt='.1f', cmap='YlOrBr', mask=low_tri_matrix)\n",
    "res.set_xticklabels(res.get_xmajorticklabels(), fontsize=14)\n",
    "res.set_yticklabels(res.get_ymajorticklabels(), fontsize=14)\n",
    "X_Data = X_Data_Updated\n",
    "# Plot Cross-correlation Heatmap\n",
    "plt.subplots(figsize=(8, 6))\n",
    "low_tri_matrix = np.triu(1/(1-X_Data_Updated_Dict.corr()))\n",
    "res = sns.heatmap(1/(1-X_Data_Updated_Dict.corr()), vmin=0, vmax=vif_thresh, annot=True, annot_kws={\"size\": 14}, fmt='.1f', cmap='Blues', mask=low_tri_matrix)\n",
    "res.set_xticklabels(res.get_xmajorticklabels(), fontsize=14)\n",
    "res.set_yticklabels(res.get_ymajorticklabels(), fontsize=14)\n",
    "# res.xaxis.tick_top()\n",
    "X_Data = X_Data_Updated"
   ]
  },
  {
   "cell_type": "code",
   "execution_count": null,
   "metadata": {},
   "outputs": [],
   "source": [
    "## Remove highly intercorrelated channels\n",
    "# Convert Arrays to Python Dictionaries\n",
    "X_Data_Feature_List = Insole_Channels_Selected\n",
    "X_Data_Array = np.reshape(X_Data_Pruned,(X_Data_Pruned.shape[0]*X_Data_Pruned.shape[1],X_Data_Pruned.shape[2]))\n",
    "X_Data_Dict = pd.DataFrame(X_Data_Array,columns=X_Data_Feature_List)\n",
    "regex = re.compile(r\"\\[|\\]|<\", re.IGNORECASE)\n",
    "X_Data_Dict.columns = [regex.sub(\"_\", col) if any(x in str(col) for x in set(('[', ']', '<'))) else col for col in X_Data_Dict.columns.values]\n",
    "# Prune channels based on PCC\n",
    "thresh = 0.9  # VIF = 10\n",
    "vif_thresh = 10\n",
    "cor_matrix = X_Data_Dict.corr().abs()\n",
    "vif_matrix = 1/(1-cor_matrix)\n",
    "vif_array = np.array(vif_matrix).flatten()\n",
    "vif_array[~np.isfinite(vif_array)] = 0\n",
    "upper_tri = vif_matrix.where(np.triu(np.ones(vif_matrix.shape), k=1).astype(bool))\n",
    "to_drop = [column for column in upper_tri.columns if any(upper_tri[column] > vif_thresh)]\n",
    "X_Data_Updated_Dict = X_Data_Dict.drop(to_drop, axis=1)\n",
    "X_Data_Updated = np.reshape(X_Data_Updated_Dict, (X_Data_Pruned.shape[0],X_Data_Pruned.shape[1],X_Data_Updated_Dict.shape[1]))\n",
    "print(X_Data_Updated.shape)\n",
    "insole_sensors_Final = [x for x in X_Data_Dict.columns if x not in to_drop]\n",
    "print(insole_sensors_Final)\n",
    "'''\n",
    "# Plot Cross-correlation Heatmap\n",
    "plt.subplots(figsize=(14, 12))\n",
    "low_tri_matrix = np.triu(1/(1-X_Data_Dict.corr()))\n",
    "res = sns.heatmap(1/(1-X_Data_Dict.corr()), vmin=0, vmax=np.max(vif_array), annot=True, annot_kws={\"size\": 14}, fmt='.1f', cmap='Blues', mask=low_tri_matrix)\n",
    "res.set_xticklabels(res.get_xmajorticklabels(), fontsize=14)\n",
    "res.set_yticklabels(res.get_ymajorticklabels(), fontsize=14)\n",
    "X_Data = X_Data_Updated'''\n",
    "# Plot Cross-correlation Heatmap\n",
    "plt.subplots(figsize=(8, 6))\n",
    "low_tri_matrix = np.triu(1/(1-X_Data_Updated_Dict.corr()))\n",
    "res = sns.heatmap(1/(1-X_Data_Updated_Dict.corr()), vmin=0, vmax=vif_thresh, annot=True, annot_kws={\"size\": 14}, fmt='.1f', cmap='Blues', mask=low_tri_matrix)\n",
    "res.set_xticklabels(res.get_xmajorticklabels(), fontsize=14)\n",
    "res.set_yticklabels(res.get_ymajorticklabels(), fontsize=14)\n",
    "# res.xaxis.tick_top()\n",
    "X_Data = X_Data_Updated"
   ]
  },
  {
   "cell_type": "markdown",
   "metadata": {},
   "source": [
    "## Visualizations"
   ]
  },
  {
   "cell_type": "code",
   "execution_count": 9,
   "metadata": {},
   "outputs": [
    {
     "data": {
      "image/png": "[encoded data removed]",
      "text/plain": [
       "<Figure size 1200x400 with 2 Axes>"
      ]
     },
     "metadata": {},
     "output_type": "display_data"
    }
   ],
   "source": [
    "# Plot\n",
    "data_shape = X_Data.shape\n",
    "c = random.randint(0, data_shape[2]-1)\n",
    "i = random.randint(0, data_shape[0]-1)\n",
    "plt.figure(figsize=(12,4))\n",
    "plt.subplot(2,1,1)\n",
    "plt.plot(X_Data[i,:,c], label='GT')\n",
    "# plt.ylim(0,1)\n",
    "plt.title(f\"Channel {c} - Sample Number {i}\", fontdict={'fontsize': 16})\n",
    "plt.legend()\n",
    "plt.subplot(2,1,2)\n",
    "plt.plot(Y_Data[i,:,0], label='Target')\n",
    "# plt.ylim(0,1)\n",
    "plt.title(f\"Force Plate {target_quantity} GT\", fontdict={'fontsize': 16})\n",
    "plt.legend()\n",
    "plt.tight_layout()"
   ]
  },
  {
   "cell_type": "markdown",
   "metadata": {
    "id": "RHq0FrX9iAsq"
   },
   "source": [
    "# MAIN"
   ]
  },
  {
   "cell_type": "markdown",
   "metadata": {},
   "source": [
    "Experimenal Configurations"
   ]
  },
  {
   "cell_type": "code",
   "execution_count": 10,
   "metadata": {
    "id": "Mai6ZRMeiFvA"
   },
   "outputs": [],
   "source": [
    "# Configurations\n",
    "signal_length = X_Data.shape[1]  # Length of each Segment\n",
    "model_name = 'IMUNet'  # UNet, UNetPP, etc.\n",
    "model_depth = 5  # Number of Level in the CNN Model\n",
    "model_width = 32  # Width of the Initial Layer, subsequent layers start from here\n",
    "kernel_size = 3  # Size of the Kernels/Filter\n",
    "num_channel = X_Data.shape[2] # Number of Channels in the Model\n",
    "D_S = 1  # Turn on Deep Supervision\n",
    "A_E = 0  # Turn on AutoEncoder Mode for Feature Extraction\n",
    "A_G = 0  # Turn on for Guided Attention\n",
    "LSTM = 0  # Turn on BiConvLSTM Block\n",
    "problem_type = 'Regression'\n",
    "output_nums = Y_Data.shape[2]  # Number of Class for Classification Problems, always '1' for Regression Problems\n",
    "is_transconv = True # True: Transposed Convolution, False: UpSampling\n",
    "feature_number = 1024  # Number of Features to be Extracted, only required if the AutoEncoder Mode is turned on\n",
    "\n",
    "## Model Specific Configurations\n",
    "alpha = 1  # Model Width Expansion Parameter, for MultiResUNet only\n",
    "pooling_type = 'mix' # pooling_type, only for EMARS\n",
    "cardinality = 5  # Cardinality, only for EMARS\n",
    "q = 3\n",
    "t = 1\n",
    "\n",
    "## Data Configurations\n",
    "DS_Model_Type = 'UNet' # UNet or UNetPP\n",
    "## Experimental Configurations8\n",
    "load_weights = False\n",
    "max_epoch_stop = 30\n",
    "max_epoch_lr_change = 10\n",
    "lr = 5e-4\n",
    "lr_factor = 0.1\n",
    "monitor_param = 'loss'  # 'loss' or 'acc' for monitoring"
   ]
  },
  {
   "cell_type": "markdown",
   "metadata": {
    "id": "TGoiZp6_JpIZ"
   },
   "source": [
    "Helper Functions"
   ]
  },
  {
   "cell_type": "code",
   "execution_count": 11,
   "metadata": {
    "id": "Jms3ad41Joam"
   },
   "outputs": [],
   "source": [
    "def prepareTrainDict(batch_data, model_depth, model_name):\n",
    "    def approximate(inp, w_len):\n",
    "        ops = tf.keras.layers.AveragePooling1D(pool_size=w_len)(inp)\n",
    "        return ops\n",
    "\n",
    "    batch_data = np.array(batch_data)\n",
    "    Y_Train_dict = {}\n",
    "    Y_Train_dict['out'] = batch_data\n",
    "    for i in range(1, (model_depth+1)):\n",
    "        name = f'level{i}'\n",
    "        if model_name == 'UNet':\n",
    "            Y_Train_dict[name] = approximate(batch_data, 2**i)\n",
    "        elif model_name == 'UNetPP':\n",
    "            Y_Train_dict[name] = batch_data\n",
    "\n",
    "    return Y_Train_dict"
   ]
  },
  {
   "cell_type": "code",
   "execution_count": 12,
   "metadata": {},
   "outputs": [],
   "source": [
    "def overlap_data(X_Data, Y_Data, overlap_ratio, target_segment_length):\n",
    "    # Input Array Shape\n",
    "    X_Data_Shape = X_Data.shape\n",
    "    Y_Data_Shape = Y_Data.shape\n",
    "    original_segment_length = X_Data_Shape[1]\n",
    "    # Reshape Array\n",
    "    X_Data_Reshaped = np.reshape(X_Data, (X_Data_Shape[0]*X_Data_Shape[1], X_Data_Shape[2]))\n",
    "    Y_Data_Reshaped = np.reshape(Y_Data, (X_Data_Shape[0]*X_Data_Shape[1], Y_Data_Shape[2]))\n",
    "    X_Data_Reshaped_Shape = X_Data_Reshaped.shape\n",
    "    Y_Data_Reshaped_Shape = Y_Data_Reshaped.shape\n",
    "    # Overlap\n",
    "    offset_amount = np.int_(original_segment_length*(1 - overlap_ratio))\n",
    "    X_Data_New = np.zeros((30000,target_segment_length,X_Data_Reshaped_Shape[1]))\n",
    "    Y_Data_New = np.zeros((30000,target_segment_length,Y_Data_Reshaped_Shape[1]))\n",
    "    num_segments_approx = np.int_(np.ceil(X_Data_Reshaped_Shape[0]/offset_amount))\n",
    "    counter = 0\n",
    "    for i in range(0,num_segments_approx):\n",
    "        if (i*offset_amount+target_segment_length) > X_Data_Reshaped_Shape[0]:\n",
    "            continue\n",
    "        X_Data_Temp = X_Data_Reshaped[i*offset_amount:i*offset_amount+target_segment_length,:]\n",
    "        X_Data_Temp = (X_Data_Temp - np.min(X_Data_Temp))/(np.max(X_Data_Temp)-np.min(X_Data_Temp))  # Range Normalization [0 1]\n",
    "        X_Data_New[counter,:,:] = X_Data_Temp\n",
    "        Y_Data_Temp = Y_Data_Reshaped[i*offset_amount:i*offset_amount+target_segment_length,:]\n",
    "        Y_Data_Temp = (Y_Data_Temp - np.min(Y_Data_Temp))/(np.max(Y_Data_Temp)-np.min(Y_Data_Temp))\n",
    "        Y_Data_New[counter,:,:] = Y_Data_Temp\n",
    "        counter = counter + 1\n",
    "    X_Data_OVRL = X_Data_New[0:counter,:,:]\n",
    "    Y_Data_OVRL = Y_Data_New[0:counter,:,:]\n",
    "    \n",
    "    return X_Data_OVRL, Y_Data_OVRL"
   ]
  },
  {
   "cell_type": "markdown",
   "metadata": {
    "id": "nWQQ-U2bJ2Js"
   },
   "source": [
    "Train Loop"
   ]
  },
  {
   "cell_type": "code",
   "execution_count": null,
   "metadata": {},
   "outputs": [],
   "source": [
    "for fnum in range(start_fold,end_fold + 1):\n",
    "    print(f'Fold {fnum}')\n",
    "    print(f'Loading Data...')\n",
    "    if fnum == 1:\n",
    "        train_sub_IDs = [4,5,6,7,8,9,10]\n",
    "        test_sub_IDs = [11,12]\n",
    "    elif fnum == 2:\n",
    "        train_sub_IDs = [4,5,6,7,8,11,12]\n",
    "        test_sub_IDs = [9,10]\n",
    "    elif fnum == 3:\n",
    "        train_sub_IDs = [4,5,6,9,10,11,12]\n",
    "        test_sub_IDs = [7,8]\n",
    "    elif fnum == 4:\n",
    "        train_sub_IDs = [4,7,8,9,10,11,12]\n",
    "        test_sub_IDs = [5,6]\n",
    "    elif fnum == 5:\n",
    "        train_sub_IDs = [5,6,7,8,9,10,11,12]\n",
    "        test_sub_IDs = [4]\n",
    "    train_Indices = np.where(Y_Label_sub == train_sub_IDs)[0]\n",
    "    X_Train = np.take(X_Data, train_Indices, axis=0)\n",
    "    Y_Train = np.take(Y_Data, train_Indices, axis=0)\n",
    "    test_Indices = np.where(Y_Label_sub == test_sub_IDs)[0]\n",
    "    X_Test = np.take(X_Data, test_Indices, axis=0)\n",
    "    Y_Test = np.take(Y_Data, test_Indices, axis=0)\n",
    "    Y_Test_Sub_Labels = np.take(Y_Label_sub, test_Indices, axis=0)\n",
    "    Y_Test_Speed_Labels = np.take(Y_Label_speed, test_Indices, axis=0)\n",
    "    Y_Test_Mode_Labels = np.take(Y_Label_mode, test_Indices, axis=0)\n",
    "    X_Val = X_Test\n",
    "    Y_Val = Y_Test\n",
    "    print(f'Dataset info: ')\n",
    "    print(X_Train.shape)\n",
    "    print(Y_Train.shape)\n",
    "    print(X_Test.shape)\n",
    "    print(Y_Test.shape)\n",
    "    print(X_Val.shape)\n",
    "    print(Y_Val.shape)\n",
    "    print(Y_Test_Sub_Labels.shape)\n",
    "    print(Y_Test_Speed_Labels.shape)\n",
    "    print(Y_Test_Mode_Labels.shape)\n",
    "    X_Train, Y_Train = overlap_data(X_Train, Y_Train, 0.6, 1024)\n",
    "    print(X_Train.shape)\n",
    "    print(Y_Train.shape)\n",
    "    RawDataPath = 'Train_Set.h5'\n",
    "    hf = h5py.File(RawDataPath, 'w')\n",
    "    hf.create_dataset('X', data=X_Train)\n",
    "    hf.create_dataset('Y', data=Y_Train)\n",
    "    hf.close()\n",
    "    RawDataPath = 'Val_Set.h5'\n",
    "    hf = h5py.File(RawDataPath, 'w')\n",
    "    hf.create_dataset('X', data=X_Val)\n",
    "    hf.create_dataset('Y', data=Y_Val)\n",
    "    hf.close()\n",
    "    RawDataPath = 'Test_Set.h5'\n",
    "    hf = h5py.File(RawDataPath, 'w')\n",
    "    hf.create_dataset('X', data=X_Test)\n",
    "    hf.create_dataset('Y', data=Y_Test)\n",
    "    hf.create_dataset('ID', data=Y_Test_Sub_Labels)\n",
    "    hf.create_dataset('SPD', data=Y_Test_Speed_Labels)\n",
    "    hf.create_dataset('MD', data=Y_Test_Mode_Labels)\n",
    "    hf.close()\n",
    "    print(f'Building Model...')\n",
    "    # Build model for PPG2ABP Segmentation - Deep UNet Architecture\n",
    "    IMU2VGRF_Network = MLMRSNet(signal_length, model_depth, num_channel, model_width, kernel_size, problem_type='Regression', output_nums=output_nums,\n",
    "                                ds=D_S, ae=A_E, cardinality=cardinality, pooling_type=pooling_type).IMUNet()\n",
    "    # print(IMU2VGRF_Network.summary())\n",
    "    print(f'Starting Training...')\n",
    "    if D_S == 0:  # Deep Supervision OFF\n",
    "        # Compile Built Model\n",
    "        IMU2VGRF_Network.compile(loss=tf.keras.losses.MeanAbsoluteError(reduction='sum_over_batch_size', name='mean_absolute_error'), \n",
    "                                optimizer=tf.keras.optimizers.Adam(learning_rate=lr), \n",
    "                                metrics=[tf.keras.metrics.MeanSquaredError(name='mean_squared_error', dtype=None)])\n",
    "        # Directory for Saving Trained Models\n",
    "        save_directory = f'trained_models/{model_name}/'+model_name+'_'+str(signal_length)+'_'+str(model_width)+'_'+str(num_channel)+'_'+str(D_S)+'.keras'\n",
    "        # Load Pretrained Weights (if available)\n",
    "        if (os.path.exists(save_directory) and load_weights == True):\n",
    "            print('\\nLoading Pretrained Weights...')\n",
    "            # Load Previously Trained Weights for Transfer Learning\n",
    "            IMU2VGRF_Network.load_weights(save_directory)\n",
    "        # Declare Callbacks\n",
    "        if monitor_param == 'loss':\n",
    "            callbacks = [tf.keras.callbacks.EarlyStopping(monitor='val_loss', \n",
    "                                                        patience=max_epoch_stop, \n",
    "                                                        mode='min'),\n",
    "                        tf.keras.callbacks.ReduceLROnPlateau(monitor='val_loss', \n",
    "                                                            factor=lr_factor, \n",
    "                                                            patience=max_epoch_lr_change, \n",
    "                                                            verbose=1, \n",
    "                                                            mode='min'),\n",
    "                        tf.keras.callbacks.ModelCheckpoint(save_directory, \n",
    "                                                        verbose=1, \n",
    "                                                        monitor='val_loss', \n",
    "                                                        save_best_only=True,\n",
    "                                                        mode='min')]\n",
    "        elif monitor_param == 'acc':\n",
    "            callbacks = [tf.keras.callbacks.EarlyStopping(monitor='val_acc', \n",
    "                                                        patience=max_epoch_stop, \n",
    "                                                        mode='max'),\n",
    "                        tf.keras.callbacks.ReduceLROnPlateau(monitor='val_acc', \n",
    "                                                            factor=lr_factor, \n",
    "                                                            patience=max_epoch_lr_change, \n",
    "                                                            verbose=1, \n",
    "                                                            mode='max'),\n",
    "                        tf.keras.callbacks.ModelCheckpoint(save_directory, \n",
    "                                                        verbose=1, \n",
    "                                                        monitor='val_acc', \n",
    "                                                        save_best_only=True, \n",
    "                                                        mode='max'),\n",
    "                        tf.keras.callbacks.TerminateOnNaN()]\n",
    "        # Train Model\n",
    "        model_history = IMU2VGRF_Network.fit(X_Train, \n",
    "                                            Y_Train, \n",
    "                                            epochs=500, \n",
    "                                            batch_size=8, \n",
    "                                            verbose=1, \n",
    "                                            validation_data=(X_Val, Y_Val), \n",
    "                                            shuffle=True, \n",
    "                                            callbacks=callbacks)\n",
    "        # Test and Evaluation\n",
    "        print(f'Evaluating on the Test Set...')\n",
    "        Y_Pred = IMU2VGRF_Network.predict(X_Test, verbose=0)\n",
    "        # Save History\n",
    "        '''print('\\n')\n",
    "        print('Save History')\n",
    "        # Get the dictionary containing each metric and the loss for each epoch\n",
    "        history_dict = model_history.history\n",
    "        history_path = f'History/{model_name}_{model_depth}_{model_width}_Ch{num_channel}_DS{D_S}_F{fold_num}_{movement_type}_{target_quantity}_{body_side}_History.h5'\n",
    "        json.dump(history_dict.item(), open(history_path, 'w'))\n",
    "        print('\\n')'''\n",
    "        # Save Outcomes\n",
    "        print(f'Saving Results...')\n",
    "        File = h5py.File(f'Outcomes/{model_name}_{model_depth}_{model_width}_Ch{num_channel}_DS{D_S}_F{fnum}_{movement_type}_{target_quantity}_{body_side}.h5', 'w')\n",
    "        File.create_dataset('X_Test', data=X_Test)\n",
    "        File.create_dataset('Y_Test', data=Y_Test)\n",
    "        File.create_dataset('Y_Pred', data=Y_Pred)\n",
    "        File.create_dataset('sub_labels', data=Y_Test_Sub_Labels)\n",
    "        File.create_dataset('speed_labels', data=Y_Test_Speed_Labels)\n",
    "        File.create_dataset('mode_labels', data=Y_Test_Mode_Labels)\n",
    "        File.close()\n",
    "        print('\\n')\n",
    "    elif D_S == 1:  # Deep Supervision ON\n",
    "        # Prepare Train and Test Sets for Deep Supervision\n",
    "        Y_Train_dict = prepareTrainDict(Y_Train, model_depth, DS_Model_Type)\n",
    "        Y_Val_dict = prepareTrainDict(Y_Val, model_depth, DS_Model_Type)\n",
    "        # Generate Custom Loss Weights for Deep Supervision\n",
    "        loss_weights = {}\n",
    "        keys = Y_Train_dict.keys()\n",
    "        k = 0\n",
    "        for key in keys:\n",
    "            loss_weights[key] = 1-(k*0.1)\n",
    "            k = k + 1\n",
    "        #\n",
    "        metrics_dic = []\n",
    "        for i in range(0, model_depth + 1):\n",
    "            metrics_dic.append(tf.keras.metrics.MeanSquaredError(name='mean_squared_error'))\n",
    "        #\n",
    "        losses_dic = []\n",
    "        for i in range(0, model_depth + 1):\n",
    "            losses_dic.append(tf.keras.losses.Huber(delta=1.0, \n",
    "                                                    reduction='sum_over_batch_size', \n",
    "                                                    name='huber_loss'))\n",
    "        # Compile Built Model\n",
    "        IMU2VGRF_Network.compile(loss=losses_dic, \n",
    "                                optimizer=tf.keras.optimizers.Adam(learning_rate=lr), \n",
    "                                metrics=metrics_dic, \n",
    "                                loss_weights=loss_weights)\n",
    "        # Directory for Saving Trained Models\n",
    "        save_directory = f'trained_models/{model_name}/'+model_name+'_'+str(signal_length)+'_'+str(model_width)+'_'+str(num_channel)+'_'+str(D_S)+'.keras'\n",
    "        # Load Pretrained Weights (if available)\n",
    "        if (os.path.exists(save_directory) and load_weights == True):\n",
    "            print('Loading Pretrained Weights...')\n",
    "            # Load Previously Trained Weights for Transfer Learning\n",
    "            IMU2VGRF_Network.load_weights(save_directory)\n",
    "        # Declare Callbacks\n",
    "        if monitor_param == 'loss':\n",
    "            callbacks = [tf.keras.callbacks.EarlyStopping(monitor='val_out_loss', \n",
    "                                                        patience=max_epoch_stop, \n",
    "                                                        mode='min'),\n",
    "                        tf.keras.callbacks.ReduceLROnPlateau(monitor='val_out_loss', \n",
    "                                                            factor=lr_factor, \n",
    "                                                            patience=max_epoch_lr_change, \n",
    "                                                            verbose=1, \n",
    "                                                            mode='min'),\n",
    "                        tf.keras.callbacks.ModelCheckpoint(save_directory, \n",
    "                                                        verbose=1, \n",
    "                                                        monitor='val_out_loss', \n",
    "                                                        save_best_only=True, \n",
    "                                                        mode='min')]\n",
    "        elif monitor_param == 'acc':\n",
    "            callbacks = [tf.keras.callbacks.EarlyStopping(monitor='val_out_acc', \n",
    "                                                        patience=max_epoch_stop, \n",
    "                                                        mode='max'),\n",
    "                        tf.keras.callbacks.ReduceLROnPlateau(monitor='val_out_acc', \n",
    "                                                            factor=lr_factor, \n",
    "                                                            patience=max_epoch_lr_change, \n",
    "                                                            verbose=1, \n",
    "                                                            mode='max'),\n",
    "                        tf.keras.callbacks.ModelCheckpoint(save_directory, \n",
    "                                                        verbose=1, \n",
    "                                                        monitor='val_out_acc', \n",
    "                                                        save_best_only=True, \n",
    "                                                        mode='max'),\n",
    "                        tf.keras.callbacks.TerminateOnNaN()]\n",
    "        # Train Model\n",
    "        model_history = IMU2VGRF_Network.fit(X_Train, \n",
    "                                            Y_Train_dict, \n",
    "                                            epochs=500, \n",
    "                                            batch_size=16, \n",
    "                                            verbose=1, \n",
    "                                            validation_data=(X_Val, Y_Val_dict), \n",
    "                                            shuffle=True, \n",
    "                                            callbacks=callbacks)\n",
    "        # Test and Evaluation\n",
    "        print(f'Evaluating on the Test Set...')\n",
    "        Y_Pred = IMU2VGRF_Network.predict(X_Test, verbose=0)\n",
    "        Y_Pred = Y_Pred[-1]\n",
    "        # Save Outcomes\n",
    "        print(f'Saving Results...')\n",
    "        File = h5py.File(f'Outcomes/{model_name}_{model_depth}_{model_width}_Ch{num_channel}_DS{D_S}_F{fnum}_{movement_type}_{target_quantity}_{body_side}.h5', 'w')\n",
    "        File.create_dataset('X_Test', data=X_Test)\n",
    "        File.create_dataset('Y_Test', data=Y_Test)\n",
    "        File.create_dataset('Y_Pred', data=Y_Pred)\n",
    "        File.create_dataset('sub_labels', data=Y_Test_Sub_Labels)\n",
    "        File.create_dataset('speed_labels', data=Y_Test_Speed_Labels)\n",
    "        File.create_dataset('mode_labels', data=Y_Test_Mode_Labels)\n",
    "        File.close()\n",
    "    print(f'Delecting Fold {fnum} Data...')\n",
    "    del IMU2VGRF_Network, model_history, X_Train, Y_Train, X_Test, Y_Test, X_Val, Y_Val, train_Indices, test_Indices\n",
    "    del Y_Test_Sub_Labels, Y_Test_Speed_Labels, Y_Test_Mode_Labels, Y_Pred, Y_Train_dict, Y_Val_dict, File, hf\n",
    "    gc.collect()\n",
    "    print('\\n')"
   ]
  },
  {
   "cell_type": "markdown",
   "metadata": {
    "id": "MgJMiRUPy7aC"
   },
   "source": [
    "Evaluate outside the training loop (if not saved normally)"
   ]
  },
  {
   "cell_type": "code",
   "execution_count": null,
   "metadata": {},
   "outputs": [],
   "source": [
    "fold_num = 1\n",
    "# Save Outcomes\n",
    "print('Save Results')\n",
    "File = h5py.File(f'Outcomes/{model_name}_{model_depth}_{model_width}_Ch{num_channel}_DS{D_S}_F{fold_num}_{movement_type}_{target_quantity}_{body_side}.h5', 'w')\n",
    "File.create_dataset('X_Test', data=X_Test)\n",
    "File.create_dataset('Y_Test', data=Y_Test)\n",
    "File.create_dataset('Y_Pred', data=Y_Pred)\n",
    "File.create_dataset('sub_labels', data=Y_Test_Sub_Labels)\n",
    "File.create_dataset('speed_labels', data=Y_Test_Speed_Labels)\n",
    "File.create_dataset('mode_labels', data=Y_Test_Mode_Labels)\n",
    "File.close()"
   ]
  },
  {
   "cell_type": "code",
   "execution_count": null,
   "metadata": {},
   "outputs": [],
   "source": [
    "num_channels = 6\n",
    "fold_num = 5\n",
    "count_samples = 0\n",
    "X_Test_TOT = np.empty((5000,1024,num_channels))\n",
    "Y_Test_TOT = np.empty((5000,1024,1))\n",
    "Y_Pred_TOT = np.empty((5000,1024,1))\n",
    "sub_labels_TOT = np.empty((5000,1))\n",
    "speed_labels_TOT = np.empty((5000,1))\n",
    "mode_labels_TOT = np.empty((5000,1))\n",
    "for i in range(1, fold_num+1):\n",
    "    # Load Ground Truth and Results\n",
    "    print(f'Fold No.: {i}')\n",
    "    fl_Data = h5py.File(os.path.join(f'Outcomes/IMUNet_5_32_Ch{num_channels}_DS1_F{i}_{movement_type}_{target_quantity}_{body_side}.h5'), 'r')\n",
    "    # print(fl_Data.keys())\n",
    "    X_Test_PF = np.array(fl_Data['X_Test'])\n",
    "    Y_Test_PF = np.array(fl_Data['Y_Test'])\n",
    "    Y_Pred_PF = np.array(fl_Data['Y_Pred'])\n",
    "    sub_labels_PF = np.array(fl_Data['sub_labels'])\n",
    "    speed_labels_PF = np.array(fl_Data['speed_labels'])\n",
    "    mode_labels_PF = np.array(fl_Data['mode_labels'])\n",
    "    Evaluation_Metrics(Y_Test_PF, Y_Pred_PF, sub_labels_PF, weight_array)\n",
    "    num_samples_pf = Y_Test_PF.shape[0]\n",
    "    print(num_samples_pf)\n",
    "    X_Test_TOT[count_samples:count_samples+num_samples_pf,:,:] = X_Test_PF\n",
    "    Y_Test_TOT[count_samples:count_samples+num_samples_pf,:,:] = Y_Test_PF\n",
    "    Y_Pred_TOT[count_samples:count_samples+num_samples_pf,:,:] = Y_Pred_PF\n",
    "    sub_labels_TOT[count_samples:count_samples+num_samples_pf,:] = sub_labels_PF\n",
    "    speed_labels_TOT[count_samples:count_samples+num_samples_pf,:] = speed_labels_PF\n",
    "    mode_labels_TOT[count_samples:count_samples+num_samples_pf,:] = mode_labels_PF\n",
    "    count_samples = count_samples + num_samples_pf\n",
    "X_Test_TOT = np.array(X_Test_TOT[0:count_samples,:,:])\n",
    "Y_Test_TOT = np.array(Y_Test_TOT[0:count_samples,:,:])\n",
    "Y_Pred_TOT = np.array(Y_Pred_TOT[0:count_samples,:,:])\n",
    "sub_labels_TOT = np.array(sub_labels_TOT[0:count_samples,:])\n",
    "speed_labels_TOT = np.array(speed_labels_TOT[0:count_samples,:])\n",
    "mode_labels_TOT = np.array(mode_labels_TOT[0:count_samples,:])\n",
    "print(X_Test_TOT.shape)\n",
    "print(Y_Test_TOT.shape)\n",
    "print(Y_Pred_TOT.shape)\n",
    "print(sub_labels_TOT.shape)\n",
    "print(speed_labels_TOT.shape)\n",
    "print(mode_labels_TOT.shape)\n",
    "Evaluation_Metrics(Y_Test_TOT, Y_Pred_TOT, sub_labels_TOT, weight_array)\n",
    "# Save Outcomes\n",
    "print('Save Results')\n",
    "File = h5py.File(f'Outcomes/IMUNet_5_32_Ch{num_channels}_DS1_{movement_type}_{target_quantity}_{body_side}.h5', 'w')\n",
    "File.create_dataset('X_Test', data=X_Test_TOT)\n",
    "File.create_dataset('Y_Test', data=Y_Test_TOT)\n",
    "File.create_dataset('Y_Pred', data=Y_Pred_TOT)\n",
    "File.create_dataset('sub_labels', data=sub_labels_TOT)\n",
    "File.create_dataset('speed_labels', data=speed_labels_TOT)\n",
    "File.create_dataset('mode_labels', data=mode_labels_TOT)\n",
    "File.close()\n",
    "print('\\n')"
   ]
  },
  {
   "cell_type": "code",
   "execution_count": null,
   "metadata": {},
   "outputs": [],
   "source": [
    "# Load Ground Truth and Results\n",
    "fl_Data = h5py.File(os.path.join(f'Outcomes/IMUNet_5_32_Ch25_DS1_F1_combined_insole_FP_Fx_LL.h5'), 'r')\n",
    "print(fl_Data.keys())\n",
    "X_Test = np.array(fl_Data['X_Test'])\n",
    "Y_Test = np.array(fl_Data['Y_Test'])\n",
    "Y_Pred = np.array(fl_Data['Y_Pred'])\n",
    "print(X_Test.shape)\n",
    "print(Y_Test.shape)\n",
    "print(Y_Pred.shape)"
   ]
  },
  {
   "cell_type": "markdown",
   "metadata": {},
   "source": [
    "## Evaluate"
   ]
  },
  {
   "cell_type": "markdown",
   "metadata": {},
   "source": [
    "Error and Correlation Functions"
   ]
  },
  {
   "cell_type": "code",
   "execution_count": 13,
   "metadata": {},
   "outputs": [],
   "source": [
    "weight_array = {'4': 75.2, \n",
    "                '5': 65.1, \n",
    "                '6': 56.0, \n",
    "                '7': 80.8, \n",
    "                '8': 61.5, \n",
    "                '9': 81.0, \n",
    "                '10': 61.6, \n",
    "                '11': 62.4, \n",
    "                '12': 69.0}"
   ]
  },
  {
   "cell_type": "code",
   "execution_count": 14,
   "metadata": {},
   "outputs": [],
   "source": [
    "def Calculate_JEOI(GRND, Pred):\n",
    "    JEOI = []\n",
    "    for i in range(GRND.shape[0]):\n",
    "        GRND_Temp = GRND[i].ravel()\n",
    "        Pred_Temp = Pred[i].ravel()\n",
    "        EO_Temp_TOT = 0\n",
    "        EE_Temp_TOT = 0\n",
    "        EM_Temp_TOT = 0\n",
    "        EP_Temp_TOT = np.sum(Pred_Temp)\n",
    "        EG_Temp_TOT = np.sum(GRND_Temp)\n",
    "        for ii in range(len(GRND_Temp)):\n",
    "            if Pred_Temp[ii] < 0:\n",
    "                Pred_Temp[ii] = 0\n",
    "            if GRND_Temp[ii] > Pred_Temp[ii]:\n",
    "                EO_Temp = Pred_Temp[ii]\n",
    "                EE_Temp = 0\n",
    "                EM_Temp = np.abs(GRND_Temp[ii] - Pred_Temp[ii])\n",
    "            elif GRND_Temp[ii] < Pred_Temp[ii]:\n",
    "                EO_Temp = GRND_Temp[ii]\n",
    "                EE_Temp = np.abs(Pred_Temp[ii] - GRND_Temp[ii])\n",
    "                EM_Temp = 0\n",
    "            elif GRND_Temp[ii] == Pred_Temp[ii]:\n",
    "                EO_Temp = GRND_Temp[ii]\n",
    "                EE_Temp = 0\n",
    "                EM_Temp = 0\n",
    "            # EO_Temp = min(GRND_Temp[ii], Pred_Temp[ii])\n",
    "            # EE_Temp = max(GRND_Temp[ii], Pred_Temp[ii])\n",
    "            EO_Temp_TOT = EO_Temp_TOT + EO_Temp\n",
    "            EE_Temp_TOT = EE_Temp_TOT + EE_Temp\n",
    "            EM_Temp_TOT = EM_Temp_TOT + EM_Temp\n",
    "        # EO_Temp_Norm = EO_Temp_TOT/EG_Temp_TOT\n",
    "        # EE_Temp_Norm = EE_Temp_TOT/EG_Temp_TOT\n",
    "        # EM_Temp_Norm = EM_Temp_TOT/EG_Temp_TOT\n",
    "        JEOI_Temp = EO_Temp_TOT/(EO_Temp_TOT+EE_Temp_TOT+EM_Temp_TOT)\n",
    "        JEOI.append(JEOI_Temp)\n",
    "    JEOI_OVR = round(np.mean(JEOI), 5)\n",
    "    return JEOI_OVR"
   ]
  },
  {
   "cell_type": "code",
   "execution_count": 15,
   "metadata": {},
   "outputs": [],
   "source": [
    "def Calculate_DEOI(GRND, Pred):\n",
    "    DEOI = []\n",
    "    for i in range(GRND.shape[0]):\n",
    "        GRND_Temp = GRND[i].ravel()\n",
    "        Pred_Temp = Pred[i].ravel()\n",
    "        EO_Temp_TOT = 0\n",
    "        EE_Temp_TOT = 0\n",
    "        EM_Temp_TOT = 0\n",
    "        EP_Temp_TOT = np.sum(Pred_Temp)\n",
    "        EG_Temp_TOT = np.sum(GRND_Temp)\n",
    "        for ii in range(len(GRND_Temp)):\n",
    "            if Pred_Temp[ii] < 0:\n",
    "                Pred_Temp[ii] = 0\n",
    "            if GRND_Temp[ii] > Pred_Temp[ii]:\n",
    "                EO_Temp = Pred_Temp[ii]\n",
    "                EE_Temp = 0\n",
    "                EM_Temp = np.abs(GRND_Temp[ii] - Pred_Temp[ii])\n",
    "            elif GRND_Temp[ii] < Pred_Temp[ii]:\n",
    "                EO_Temp = GRND_Temp[ii]\n",
    "                EE_Temp = np.abs(Pred_Temp[ii] - GRND_Temp[ii])\n",
    "                EM_Temp = 0\n",
    "            elif GRND_Temp[ii] == Pred_Temp[ii]:\n",
    "                EO_Temp = GRND_Temp[ii]\n",
    "                EE_Temp = 0\n",
    "                EM_Temp = 0\n",
    "            # EO_Temp = min(GRND_Temp[ii], Pred_Temp[ii])\n",
    "            # EE_Temp = max(GRND_Temp[ii], Pred_Temp[ii])\n",
    "            EO_Temp_TOT = EO_Temp_TOT + EO_Temp\n",
    "            EE_Temp_TOT = EE_Temp_TOT + EE_Temp\n",
    "            EM_Temp_TOT = EM_Temp_TOT + EM_Temp\n",
    "        # EO_Temp_Norm = EO_Temp_TOT/EG_Temp_TOT\n",
    "        # EE_Temp_Norm = EE_Temp_TOT/EG_Temp_TOT\n",
    "        # EM_Temp_Norm = EM_Temp_TOT/EG_Temp_TOT\n",
    "        DEOI_Temp = (2*EO_Temp_TOT)/((2*EO_Temp_TOT)+EE_Temp_TOT+EM_Temp_TOT)\n",
    "        DEOI.append(DEOI_Temp)\n",
    "    DEOI_OVR = round(np.mean(DEOI), 5)\n",
    "    return DEOI_OVR"
   ]
  },
  {
   "cell_type": "code",
   "execution_count": 16,
   "metadata": {},
   "outputs": [],
   "source": [
    "def Evaluation_Metrics(Grnd, Pred, Sub_Arr, Weight_Dict):\n",
    "    mae_err = []\n",
    "    mse_err = []\n",
    "    rmse_err = []\n",
    "    nrmse_err = []\n",
    "    pcc = []\n",
    "    r2c = []\n",
    "    cs = []\n",
    "    dsc_ = Calculate_DEOI(Grnd, Pred)\n",
    "    iou_ = Calculate_JEOI(Grnd, Pred)\n",
    "    if len(Sub_Arr.shape) == 2:\n",
    "        Sub_Arr = Sub_Arr[:,0]\n",
    "    for i in range(0,len(Grnd)):\n",
    "        grnd_current_sample_norm = Grnd[i].ravel()\n",
    "        pred_current_sample_norm = Pred[i].ravel()\n",
    "        current_sample_sub_num = np.int_(np.array(Sub_Arr[i]))\n",
    "        current_sub_weight = Weight_Dict[str(current_sample_sub_num)]\n",
    "        grnd_current_sample_denorm = grnd_current_sample_norm * current_sub_weight\n",
    "        pred_current_sample_denorm = pred_current_sample_norm * current_sub_weight\n",
    "        MAE = np.mean(np.abs(pred_current_sample_denorm - grnd_current_sample_denorm))\n",
    "        MSE = mean_squared_error(pred_current_sample_denorm, grnd_current_sample_denorm)\n",
    "        RMSE = root_mean_squared_error(pred_current_sample_denorm, grnd_current_sample_denorm)\n",
    "        NRMSE = root_mean_squared_error(pred_current_sample_norm, grnd_current_sample_norm)\n",
    "        if ~(np.std(grnd_current_sample_norm) == 0 or np.std(pred_current_sample_norm) == 0):\n",
    "            pcorr, _ = stats.pearsonr(pred_current_sample_norm, grnd_current_sample_norm)\n",
    "            r2_scr = r2_score(pred_current_sample_norm, grnd_current_sample_norm)\n",
    "            cs_scr = np.dot(pred_current_sample_norm,grnd_current_sample_norm)/(np.linalg.norm(pred_current_sample_norm)*np.linalg.norm(grnd_current_sample_norm))\n",
    "        else:\n",
    "            continue\n",
    "        mae_err.append(MAE)\n",
    "        mse_err.append(MSE)\n",
    "        rmse_err.append(RMSE)\n",
    "        nrmse_err.append(NRMSE)\n",
    "        pcc.append(pcorr)\n",
    "        r2c.append(r2_scr)\n",
    "        cs.append(cs_scr)\n",
    "    print(f'MAE Error: {round(np.mean(mae_err), 3)} +/- {round(np.std(mae_err), 3)}')\n",
    "    print(f'MSE Error: {round(np.mean(mse_err), 3)} +/- {round(np.std(mse_err), 3)}')\n",
    "    print(f'RMSE Error: {round(np.mean(rmse_err), 3)} +/- {round(np.std(rmse_err), 3)}')\n",
    "    print(f'Normalized RMSE Error: {round(np.mean(nrmse_err), 3)} +/- {round(np.std(nrmse_err), 3)}')\n",
    "    print(f'R-squared (R²) Score: {round(np.mean(r2c)*100, 3)}% +/- {round(np.std(r2c)*100, 3)}')\n",
    "    print(f'Pearson Correlation (PCC): {round(np.mean(pcc)*100, 3)}% +/- {round(np.std(pcc)*100, 3)}')\n",
    "    print(f'Cosine Similarity: {round(np.mean(cs)*100, 3)}% +/- {round(np.std(cs)*100, 3)}')\n",
    "    print(f'DSC or Dice Score: {round(np.mean(dsc_)*100, 4)}%')\n",
    "    print(f'IoU or Jaccard Score: {round(np.mean(iou_)*100, 4)}%')"
   ]
  },
  {
   "cell_type": "code",
   "execution_count": null,
   "metadata": {},
   "outputs": [],
   "source": [
    "num_channels = 6\n",
    "fold_num = 5\n",
    "count_samples = 0\n",
    "X_Test_TOT = np.empty((5000,1024,num_channels))\n",
    "Y_Test_TOT = np.empty((5000,1024,1))\n",
    "Y_Pred_TOT = np.empty((5000,1024,1))\n",
    "sub_labels_TOT = np.empty((5000,1))\n",
    "speed_labels_TOT = np.empty((5000,1))\n",
    "mode_labels_TOT = np.empty((5000,1))\n",
    "for i in range(1, fold_num+1):\n",
    "    # Load Ground Truth and Results\n",
    "    print(f'Fold No.: {i}')\n",
    "    fl_Data = h5py.File(os.path.join(f'Outcomes/IMUNet_5_32_Ch{num_channels}_DS1_F{i}_{movement_type}_{target_quantity}_{body_side}.h5'), 'r')\n",
    "    # print(fl_Data.keys())\n",
    "    X_Test_PF = np.array(fl_Data['X_Test'])\n",
    "    Y_Test_PF = np.array(fl_Data['Y_Test'])\n",
    "    Y_Pred_PF = np.array(fl_Data['Y_Pred'])\n",
    "    sub_labels_PF = np.array(fl_Data['sub_labels'])\n",
    "    speed_labels_PF = np.array(fl_Data['speed_labels'])\n",
    "    mode_labels_PF = np.array(fl_Data['mode_labels'])\n",
    "    Evaluation_Metrics(Y_Test_PF, Y_Pred_PF, sub_labels_PF, weight_array)\n",
    "    num_samples_pf = Y_Test_PF.shape[0]\n",
    "    print(num_samples_pf)\n",
    "    X_Test_TOT[count_samples:count_samples+num_samples_pf,:,:] = X_Test_PF\n",
    "    Y_Test_TOT[count_samples:count_samples+num_samples_pf,:,:] = Y_Test_PF\n",
    "    Y_Pred_TOT[count_samples:count_samples+num_samples_pf,:,:] = Y_Pred_PF\n",
    "    sub_labels_TOT[count_samples:count_samples+num_samples_pf,:] = sub_labels_PF\n",
    "    speed_labels_TOT[count_samples:count_samples+num_samples_pf,:] = speed_labels_PF\n",
    "    mode_labels_TOT[count_samples:count_samples+num_samples_pf,:] = mode_labels_PF\n",
    "    count_samples = count_samples + num_samples_pf\n",
    "X_Test_TOT = np.array(X_Test_TOT[0:count_samples,:,:])\n",
    "Y_Test_TOT = np.array(Y_Test_TOT[0:count_samples,:,:])\n",
    "Y_Pred_TOT = np.array(Y_Pred_TOT[0:count_samples,:,:])\n",
    "sub_labels_TOT = np.array(sub_labels_TOT[0:count_samples,:])\n",
    "speed_labels_TOT = np.array(speed_labels_TOT[0:count_samples,:])\n",
    "mode_labels_TOT = np.array(mode_labels_TOT[0:count_samples,:])\n",
    "print(X_Test_TOT.shape)\n",
    "print(Y_Test_TOT.shape)\n",
    "print(Y_Pred_TOT.shape)\n",
    "print(sub_labels_TOT.shape)\n",
    "print(speed_labels_TOT.shape)\n",
    "print(mode_labels_TOT.shape)\n",
    "Evaluation_Metrics(Y_Test_TOT, Y_Pred_TOT, sub_labels_TOT, weight_array)\n",
    "# Save Outcomes\n",
    "print('Save Results')\n",
    "File = h5py.File(f'Outcomes/IMUNet_5_32_Ch{num_channels}_DS1_{movement_type}_{target_quantity}_{body_side}.h5', 'w')\n",
    "File.create_dataset('X_Test', data=X_Test_TOT)\n",
    "File.create_dataset('Y_Test', data=Y_Test_TOT)\n",
    "File.create_dataset('Y_Pred', data=Y_Pred_TOT)\n",
    "File.create_dataset('sub_labels', data=sub_labels_TOT)\n",
    "File.create_dataset('speed_labels', data=speed_labels_TOT)\n",
    "File.create_dataset('mode_labels', data=mode_labels_TOT)\n",
    "File.close()\n",
    "print('\\n')"
   ]
  },
  {
   "cell_type": "code",
   "execution_count": null,
   "metadata": {},
   "outputs": [],
   "source": [
    "# Plot\n",
    "data_shape = Y_Test.shape\n",
    "input_channel = random.randint(0, X_Test.shape[2] - 1)\n",
    "i = random.randint(0, data_shape[0])\n",
    "# Construction_Error(Y_Test[i,:,0], Y_Pred[i,:,0])\n",
    "corr, _ = stats.pearsonr(Y_Test[i,:,0].ravel(), X_Test[i,:,input_channel].ravel())\n",
    "r2_scr = r2_score(Y_Test[i,:,0].ravel(), X_Test[i,:,input_channel].ravel())\n",
    "# xcorr = np.mean(signal.correlate(Y_Test[i,:,0].ravel(), X_Test[i,:,input_channel].ravel(), mode='same') / len(Y_Test[i,:,0]))\n",
    "cosine_similarity = np.dot(Y_Test[i,:,0].ravel(),X_Test[i,:,input_channel].ravel())/(np.linalg.norm(Y_Test[i,:,0].ravel())*np.linalg.norm(X_Test[i,:,input_channel].ravel()))\n",
    "print(corr)\n",
    "print(r2_scr)\n",
    "# print(xcorr)\n",
    "print(cosine_similarity)\n",
    "plt.figure(figsize=(12,6))\n",
    "plt.subplot(3,1,1)\n",
    "plt.plot(X_Test[i,:,2], label='GT')\n",
    "# plt.ylim(0,1)\n",
    "plt.title(f\"Insole Sample Number {i} - Insole Sensor Number {input_channel}\", fontdict={'fontsize': 16})\n",
    "plt.legend()\n",
    "plt.subplot(3,1,2)\n",
    "plt.plot(Y_Test[i,:,0], label='Target')\n",
    "# plt.ylim(0,1)\n",
    "plt.title(f\"Force Plate {target_quantity} GT\", fontdict={'fontsize': 16})\n",
    "plt.legend()\n",
    "plt.subplot(3,1,3)\n",
    "plt.plot(Y_Pred[i,:,0], label='Pred')\n",
    "# plt.ylim(0,1)\n",
    "plt.title(f\"{target_quantity} Estimated\", fontdict={'fontsize': 16})\n",
    "plt.legend()\n",
    "plt.tight_layout()"
   ]
  },
  {
   "cell_type": "code",
   "execution_count": null,
   "metadata": {},
   "outputs": [],
   "source": [
    "Evaluation_Metrics(Y_Test, Y_Pred, Y_Test_Sub_Labels, weight_array)"
   ]
  },
  {
   "cell_type": "markdown",
   "metadata": {},
   "source": [
    "### Inspect and Combine 5-Fold CV Results"
   ]
  },
  {
   "cell_type": "markdown",
   "metadata": {},
   "source": [
    "Combine and Save 5-Fold CV Results for Future Analysis and CycleGAN (Restorer Model - Step 2)"
   ]
  },
  {
   "cell_type": "code",
   "execution_count": 20,
   "metadata": {},
   "outputs": [
    {
     "name": "stdout",
     "output_type": "stream",
     "text": [
      "Fold No.: 1\n",
      "MAE Error: 5.837 +/- 2.748\n",
      "MSE Error: 61.506 +/- 54.298\n",
      "RMSE Error: 7.186 +/- 3.141\n",
      "Normalized RMSE Error: 0.11 +/- 0.051\n",
      "R-squared (R²) Score: 70.048% +/- 37.43\n",
      "Pearson Correlation (PCC): 94.77% +/- 4.35\n",
      "Cosine Similarity: 99.12% +/- 0.699\n",
      "DSC or Dice Score: 91.836%\n",
      "IoU or Jaccard Score: 85.157%\n",
      "1035\n",
      "Fold No.: 2\n",
      "MAE Error: 6.31 +/- 2.792\n",
      "MSE Error: 65.006 +/- 56.088\n",
      "RMSE Error: 7.478 +/- 3.014\n",
      "Normalized RMSE Error: 0.108 +/- 0.049\n",
      "R-squared (R²) Score: 73.155% +/- 37.626\n",
      "Pearson Correlation (PCC): 95.699% +/- 3.683\n",
      "Cosine Similarity: 99.249% +/- 0.764\n",
      "DSC or Dice Score: 92.19%\n",
      "IoU or Jaccard Score: 85.794%\n",
      "1019\n",
      "Fold No.: 3\n",
      "MAE Error: 5.634 +/- 2.731\n",
      "MSE Error: 60.733 +/- 71.206\n",
      "RMSE Error: 7.053 +/- 3.315\n",
      "Normalized RMSE Error: 0.101 +/- 0.048\n",
      "R-squared (R²) Score: 72.49% +/- 34.064\n",
      "Pearson Correlation (PCC): 93.072% +/- 7.997\n",
      "Cosine Similarity: 98.886% +/- 1.42\n",
      "DSC or Dice Score: 92.629%\n",
      "IoU or Jaccard Score: 86.505%\n",
      "1035\n",
      "Fold No.: 4\n",
      "MAE Error: 6.331 +/- 3.134\n",
      "MSE Error: 75.293 +/- 70.832\n",
      "RMSE Error: 7.875 +/- 3.644\n",
      "Normalized RMSE Error: 0.129 +/- 0.056\n",
      "R-squared (R²) Score: 59.008% +/- 46.553\n",
      "Pearson Correlation (PCC): 88.289% +/- 10.991\n",
      "Cosine Similarity: 97.97% +/- 2.028\n",
      "DSC or Dice Score: 90.544%\n",
      "IoU or Jaccard Score: 83.077%\n",
      "1086\n",
      "Fold No.: 5\n",
      "MAE Error: 7.363 +/- 4.023\n",
      "MSE Error: 92.258 +/- 96.503\n",
      "RMSE Error: 8.595 +/- 4.287\n",
      "Normalized RMSE Error: 0.114 +/- 0.057\n",
      "R-squared (R²) Score: 70.624% +/- 32.404\n",
      "Pearson Correlation (PCC): 95.708% +/- 3.15\n",
      "Cosine Similarity: 98.933% +/- 1.412\n",
      "DSC or Dice Score: 90.767%\n",
      "IoU or Jaccard Score: 83.619%\n",
      "562\n",
      "(4737, 1024, 16)\n",
      "(4737, 1024, 1)\n",
      "(4737, 1024, 1)\n",
      "(4737, 1)\n",
      "(4737, 1)\n",
      "(4737, 1)\n",
      "MAE Error: 6.189 +/- 3.065\n",
      "MSE Error: 68.899 +/- 69.193\n",
      "RMSE Error: 7.545 +/- 3.461\n",
      "Normalized RMSE Error: 0.112 +/- 0.053\n",
      "R-squared (R²) Score: 68.787% +/- 38.928\n",
      "Pearson Correlation (PCC): 93.224% +/- 7.62\n",
      "Cosine Similarity: 98.811% +/- 1.442\n",
      "DSC or Dice Score: 91.662%\n",
      "IoU or Jaccard Score: 84.929%\n",
      "Save Results\n",
      "\n",
      "\n"
     ]
    }
   ],
   "source": [
    "num_channels = 16\n",
    "fold_num = 5\n",
    "count_samples = 0\n",
    "X_Test_TOT = np.empty((5000,1024,num_channels))\n",
    "Y_Test_TOT = np.empty((5000,1024,1))\n",
    "Y_Pred_TOT = np.empty((5000,1024,1))\n",
    "sub_labels_TOT = np.empty((5000,1))\n",
    "speed_labels_TOT = np.empty((5000,1))\n",
    "mode_labels_TOT = np.empty((5000,1))\n",
    "for i in range(1, fold_num+1):\n",
    "    # Load Ground Truth and Results\n",
    "    print(f'Fold No.: {i}')\n",
    "    fl_Data = h5py.File(os.path.join(f'Outcomes/IMUNet_5_32_Ch{num_channels}_DS1_F{i}_{movement_type}_{target_quantity}_{body_side}.h5'), 'r')\n",
    "    # print(fl_Data.keys())\n",
    "    X_Test_PF = np.array(fl_Data['X_Test'])\n",
    "    Y_Test_PF = np.array(fl_Data['Y_Test'])\n",
    "    Y_Pred_PF = np.array(fl_Data['Y_Pred'])\n",
    "    sub_labels_PF = np.array(fl_Data['sub_labels'])\n",
    "    speed_labels_PF = np.array(fl_Data['speed_labels'])\n",
    "    mode_labels_PF = np.array(fl_Data['mode_labels'])\n",
    "    Evaluation_Metrics(Y_Test_PF, Y_Pred_PF, sub_labels_PF, weight_array)\n",
    "    num_samples_pf = Y_Test_PF.shape[0]\n",
    "    print(num_samples_pf)\n",
    "    X_Test_TOT[count_samples:count_samples+num_samples_pf,:,:] = X_Test_PF\n",
    "    Y_Test_TOT[count_samples:count_samples+num_samples_pf,:,:] = Y_Test_PF\n",
    "    Y_Pred_TOT[count_samples:count_samples+num_samples_pf,:,:] = Y_Pred_PF\n",
    "    sub_labels_TOT[count_samples:count_samples+num_samples_pf,:] = sub_labels_PF\n",
    "    speed_labels_TOT[count_samples:count_samples+num_samples_pf,:] = speed_labels_PF\n",
    "    mode_labels_TOT[count_samples:count_samples+num_samples_pf,:] = mode_labels_PF\n",
    "    count_samples = count_samples + num_samples_pf\n",
    "X_Test_TOT = np.array(X_Test_TOT[0:count_samples,:,:])\n",
    "Y_Test_TOT = np.array(Y_Test_TOT[0:count_samples,:,:])\n",
    "Y_Pred_TOT = np.array(Y_Pred_TOT[0:count_samples,:,:])\n",
    "sub_labels_TOT = np.array(sub_labels_TOT[0:count_samples,:])\n",
    "speed_labels_TOT = np.array(speed_labels_TOT[0:count_samples,:])\n",
    "mode_labels_TOT = np.array(mode_labels_TOT[0:count_samples,:])\n",
    "print(X_Test_TOT.shape)\n",
    "print(Y_Test_TOT.shape)\n",
    "print(Y_Pred_TOT.shape)\n",
    "print(sub_labels_TOT.shape)\n",
    "print(speed_labels_TOT.shape)\n",
    "print(mode_labels_TOT.shape)\n",
    "Evaluation_Metrics(Y_Test_TOT, Y_Pred_TOT, sub_labels_TOT, weight_array)\n",
    "# Save Outcomes\n",
    "print('Save Results')\n",
    "File = h5py.File(f'Outcomes/IMUNet_5_32_Ch{num_channels}_DS1_{movement_type}_{target_quantity}_{body_side}.h5', 'w')\n",
    "File.create_dataset('X_Test', data=X_Test_TOT)\n",
    "File.create_dataset('Y_Test', data=Y_Test_TOT)\n",
    "File.create_dataset('Y_Pred', data=Y_Pred_TOT)\n",
    "File.create_dataset('sub_labels', data=sub_labels_TOT)\n",
    "File.create_dataset('speed_labels', data=speed_labels_TOT)\n",
    "File.create_dataset('mode_labels', data=mode_labels_TOT)\n",
    "File.close()\n",
    "print('\\n')"
   ]
  },
  {
   "cell_type": "markdown",
   "metadata": {},
   "source": [
    "Generate Fy Outputs"
   ]
  },
  {
   "cell_type": "code",
   "execution_count": 17,
   "metadata": {},
   "outputs": [
    {
     "name": "stdout",
     "output_type": "stream",
     "text": [
      "(562, 1024, 25)\n",
      "(562, 1024, 1)\n"
     ]
    }
   ],
   "source": [
    "print(X_Test.shape)\n",
    "num_sensors = X_Test.shape[2]\n",
    "Y_Pred = np.empty((X_Test.shape[0],X_Test.shape[1],1))\n",
    "for i in range(0,X_Test.shape[0]):\n",
    "    Y_Pred_Temp = np.zeros((X_Test.shape[1],1))\n",
    "    for ii in range(0,num_sensors):\n",
    "        Y_Pred_Temp = Y_Pred_Temp + np.expand_dims(X_Test[i,:,ii], axis=1)\n",
    "    Y_Pred_Temp = (Y_Pred_Temp - np.min(Y_Pred_Temp))/(np.max(Y_Pred_Temp) - np.min(Y_Pred_Temp))\n",
    "    Y_Pred[i,:,:] = Y_Pred_Temp\n",
    "print(Y_Pred.shape)"
   ]
  },
  {
   "cell_type": "markdown",
   "metadata": {},
   "source": [
    "Save Fy Outputs"
   ]
  },
  {
   "cell_type": "code",
   "execution_count": 18,
   "metadata": {},
   "outputs": [
    {
     "name": "stdout",
     "output_type": "stream",
     "text": [
      "Save Results\n",
      "\n",
      "\n"
     ]
    }
   ],
   "source": [
    "# Save Outcomes\n",
    "print('Save Results')\n",
    "File = h5py.File(f'Outcomes/{model_name}_{model_depth}_{model_width}_Ch{num_channel}_DS{D_S}_F{fold_num}_{movement_type}_{target_quantity}_{body_side}.h5', 'w')\n",
    "File.create_dataset('X_Test', data=X_Test)\n",
    "File.create_dataset('Y_Test', data=Y_Test)\n",
    "File.create_dataset('Y_Pred', data=Y_Pred)\n",
    "File.create_dataset('sub_labels', data=sub_labels)\n",
    "File.create_dataset('speed_labels', data=speed_labels)\n",
    "File.create_dataset('mode_labels', data=mode_labels)\n",
    "File.close()\n",
    "print('\\n')"
   ]
  },
  {
   "cell_type": "markdown",
   "metadata": {},
   "source": [
    "### Detailed Assessment"
   ]
  },
  {
   "cell_type": "markdown",
   "metadata": {},
   "source": [
    "Load Configurations"
   ]
  },
  {
   "cell_type": "code",
   "execution_count": 58,
   "metadata": {},
   "outputs": [],
   "source": [
    "target_quantity = 'CoPz'\n",
    "body_side = 'RL'\n",
    "model = 'IMUNet'\n",
    "num_channels = 6\n",
    "channel_info = '10_90'\n",
    "movement_type = 'combined_insole_FP_10_90'"
   ]
  },
  {
   "cell_type": "markdown",
   "metadata": {},
   "source": [
    "Load Results"
   ]
  },
  {
   "cell_type": "code",
   "execution_count": 59,
   "metadata": {},
   "outputs": [
    {
     "name": "stdout",
     "output_type": "stream",
     "text": [
      "(4737, 1024, 6)\n",
      "(4737, 1024, 1)\n",
      "(4737, 1024, 1)\n",
      "(4737, 1)\n",
      "(4737, 1)\n",
      "(4737, 1)\n"
     ]
    }
   ],
   "source": [
    "data = h5py.File(os.path.join(f'Results/Insole2FP_3DGRFM_CoP/{body_side}/{channel_info}/IMUNet_5_32_Ch{num_channels}_DS1_{movement_type}_{target_quantity}_{body_side}.h5'), 'r')\n",
    "X_Test = data['X_Test']\n",
    "Y_Test = data['Y_Test']\n",
    "Y_Pred = data['Y_Pred']\n",
    "sub_labels = data['sub_labels']\n",
    "speed_labels = data['speed_labels']\n",
    "mode_labels = data['mode_labels']\n",
    "print(X_Test.shape)\n",
    "print(Y_Test.shape)\n",
    "print(Y_Pred.shape)\n",
    "print(sub_labels.shape)\n",
    "print(speed_labels.shape)\n",
    "print(mode_labels.shape)"
   ]
  },
  {
   "cell_type": "markdown",
   "metadata": {},
   "source": [
    "Overall outcome"
   ]
  },
  {
   "cell_type": "code",
   "execution_count": 60,
   "metadata": {},
   "outputs": [
    {
     "name": "stdout",
     "output_type": "stream",
     "text": [
      "MAE Error: 7.228 +/- 2.803\n",
      "MSE Error: 89.16 +/- 68.957\n",
      "RMSE Error: 8.912 +/- 3.121\n",
      "Normalized RMSE Error: 0.132 +/- 0.047\n",
      "R-squared (R²) Score: 57.554% +/- 45.161\n",
      "Pearson Correlation (PCC): 88.338% +/- 9.824\n",
      "Cosine Similarity: 98.097% +/- 1.695\n",
      "DSC or Dice Score: 90.373%\n",
      "IoU or Jaccard Score: 82.707%\n"
     ]
    }
   ],
   "source": [
    "Evaluation_Metrics(Y_Test, Y_Pred, sub_labels, weight_array)"
   ]
  },
  {
   "cell_type": "markdown",
   "metadata": {},
   "source": [
    "Modewise Result (Walk or Run)"
   ]
  },
  {
   "cell_type": "code",
   "execution_count": null,
   "metadata": {},
   "outputs": [],
   "source": [
    "mode_IDs = np.int_(np.unique(mode_labels))\n",
    "for i in range(0,len(mode_IDs)):\n",
    "    current_mode_ID = mode_IDs[i]\n",
    "    current_mode_indices = np.where(mode_labels == current_mode_ID)[0]\n",
    "    current_mode_X_Test = np.take(X_Test, current_mode_indices, axis=0)\n",
    "    current_mode_Y_Test = np.take(Y_Test, current_mode_indices, axis=0)\n",
    "    current_mode_Y_Pred = np.take(Y_Pred, current_mode_indices, axis=0)\n",
    "    current_mode_sub_labels = np.int_(np.take(sub_labels, current_mode_indices, axis=0))\n",
    "    print(f'Mode ID: {current_mode_ID}')\n",
    "    Evaluation_Metrics(current_mode_Y_Test, current_mode_Y_Pred, current_mode_sub_labels, weight_array)\n",
    "    print('')"
   ]
  },
  {
   "cell_type": "markdown",
   "metadata": {},
   "source": [
    "Subjectwise Result"
   ]
  },
  {
   "cell_type": "code",
   "execution_count": 25,
   "metadata": {},
   "outputs": [
    {
     "name": "stdout",
     "output_type": "stream",
     "text": [
      "Sub ID: 4\n",
      "MAE Error: 9.723 +/- 3.695\n",
      "MSE Error: 144.28 +/- 103.497\n",
      "RMSE Error: 11.279 +/- 4.132\n",
      "Normalized RMSE Error: 0.15 +/- 0.055\n",
      "R-squared (R²) Score: 46.891% +/- 43.757\n",
      "Pearson Correlation (PCC): 92.576% +/- 4.499\n",
      "Cosine Similarity: 98.058% +/- 1.621\n",
      "DSC or Dice Score: 87.184%\n",
      "IoU or Jaccard Score: 77.68%\n",
      "\n",
      "Sub ID: 5\n",
      "MAE Error: 4.195 +/- 1.924\n",
      "MSE Error: 30.908 +/- 27.724\n",
      "RMSE Error: 5.145 +/- 2.106\n",
      "Normalized RMSE Error: 0.079 +/- 0.032\n",
      "R-squared (R²) Score: 81.927% +/- 21.144\n",
      "Pearson Correlation (PCC): 96.139% +/- 4.007\n",
      "Cosine Similarity: 99.241% +/- 0.855\n",
      "DSC or Dice Score: 93.214%\n",
      "IoU or Jaccard Score: 87.497%\n",
      "\n",
      "Sub ID: 6\n",
      "MAE Error: 4.428 +/- 1.971\n",
      "MSE Error: 32.389 +/- 28.469\n",
      "RMSE Error: 5.26 +/- 2.172\n",
      "Normalized RMSE Error: 0.094 +/- 0.039\n",
      "R-squared (R²) Score: 76.447% +/- 24.792\n",
      "Pearson Correlation (PCC): 95.835% +/- 3.848\n",
      "Cosine Similarity: 99.273% +/- 1.016\n",
      "DSC or Dice Score: 93.104%\n",
      "IoU or Jaccard Score: 87.242%\n",
      "\n",
      "Sub ID: 7\n",
      "MAE Error: 8.26 +/- 4.588\n",
      "MSE Error: 123.756 +/- 126.017\n",
      "RMSE Error: 9.922 +/- 5.032\n",
      "Normalized RMSE Error: 0.123 +/- 0.062\n",
      "R-squared (R²) Score: 47.11% +/- 68.954\n",
      "Pearson Correlation (PCC): 91.321% +/- 7.088\n",
      "Cosine Similarity: 98.698% +/- 1.053\n",
      "DSC or Dice Score: 90.493%\n",
      "IoU or Jaccard Score: 82.99%\n",
      "\n",
      "Sub ID: 8\n",
      "MAE Error: 3.6 +/- 1.588\n",
      "MSE Error: 21.266 +/- 18.705\n",
      "RMSE Error: 4.301 +/- 1.664\n",
      "Normalized RMSE Error: 0.07 +/- 0.027\n",
      "R-squared (R²) Score: 89.008% +/- 9.792\n",
      "Pearson Correlation (PCC): 97.648% +/- 1.514\n",
      "Cosine Similarity: 99.533% +/- 0.435\n",
      "DSC or Dice Score: 94.438%\n",
      "IoU or Jaccard Score: 89.594%\n",
      "\n",
      "Sub ID: 9\n",
      "MAE Error: 7.495 +/- 3.177\n",
      "MSE Error: 89.339 +/- 72.239\n",
      "RMSE Error: 8.804 +/- 3.44\n",
      "Normalized RMSE Error: 0.109 +/- 0.042\n",
      "R-squared (R²) Score: 71.227% +/- 26.535\n",
      "Pearson Correlation (PCC): 95.246% +/- 3.742\n",
      "Cosine Similarity: 98.504% +/- 1.748\n",
      "DSC or Dice Score: 89.299%\n",
      "IoU or Jaccard Score: 81.095%\n",
      "\n",
      "Sub ID: 10\n",
      "MAE Error: 5.188 +/- 2.35\n",
      "MSE Error: 44.442 +/- 42.783\n",
      "RMSE Error: 6.138 +/- 2.602\n",
      "Normalized RMSE Error: 0.1 +/- 0.042\n",
      "R-squared (R²) Score: 74.982% +/- 28.915\n",
      "Pearson Correlation (PCC): 96.268% +/- 2.405\n",
      "Cosine Similarity: 99.355% +/- 0.54\n",
      "DSC or Dice Score: 92.698%\n",
      "IoU or Jaccard Score: 86.588%\n",
      "\n",
      "Sub ID: 11\n",
      "MAE Error: 4.935 +/- 3.222\n",
      "MSE Error: 45.019 +/- 64.695\n",
      "RMSE Error: 5.754 +/- 3.452\n",
      "Normalized RMSE Error: 0.092 +/- 0.055\n",
      "R-squared (R²) Score: 69.318% +/- 50.094\n",
      "Pearson Correlation (PCC): 96.141% +/- 2.131\n",
      "Cosine Similarity: 99.464% +/- 0.385\n",
      "DSC or Dice Score: 92.829%\n",
      "IoU or Jaccard Score: 86.955%\n",
      "\n",
      "Sub ID: 12\n",
      "MAE Error: 6.843 +/- 2.532\n",
      "MSE Error: 75.506 +/- 52.032\n",
      "RMSE Error: 8.194 +/- 2.892\n",
      "Normalized RMSE Error: 0.119 +/- 0.042\n",
      "R-squared (R²) Score: 73.313% +/- 18.244\n",
      "Pearson Correlation (PCC): 96.632% +/- 1.562\n",
      "Cosine Similarity: 99.272% +/- 0.512\n",
      "DSC or Dice Score: 90.872%\n",
      "IoU or Jaccard Score: 83.436%\n",
      "\n"
     ]
    }
   ],
   "source": [
    "sub_IDs = np.int_(np.unique(sub_labels))\n",
    "for i in range(0,len(sub_IDs)):\n",
    "    current_sub_ID = sub_IDs[i]\n",
    "    current_sub_indices = np.where(sub_labels == current_sub_ID)[0]\n",
    "    current_sub_X_Test = np.take(X_Test, current_sub_indices, axis=0)\n",
    "    current_sub_Y_Test = np.take(Y_Test, current_sub_indices, axis=0)\n",
    "    current_sub_Y_Pred = np.take(Y_Pred, current_sub_indices, axis=0)\n",
    "    current_mode_sub_labels = np.int_(np.take(sub_labels, current_sub_indices, axis=0))[:,0]\n",
    "    print(f'Sub ID: {current_sub_ID}')\n",
    "    Evaluation_Metrics(current_sub_Y_Test, current_sub_Y_Pred, current_mode_sub_labels, weight_array)\n",
    "    print('')"
   ]
  },
  {
   "cell_type": "markdown",
   "metadata": {},
   "source": [
    "Speedwise Results"
   ]
  },
  {
   "cell_type": "code",
   "execution_count": null,
   "metadata": {},
   "outputs": [],
   "source": [
    "speed_IDs = np.int_(np.unique(speed_labels))\n",
    "for i in range(0,len(speed_IDs)):\n",
    "    current_speed_ID = speed_IDs[i]\n",
    "    current_speed_indices = np.where(speed_labels == current_speed_ID)[0]\n",
    "    current_speed_X_Test = np.take(X_Test, current_speed_indices, axis=0)\n",
    "    current_speed_Y_Test = np.take(Y_Test, current_speed_indices, axis=0)\n",
    "    current_speed_Y_Pred = np.take(Y_Pred, current_speed_indices, axis=0)\n",
    "    current_mode_sub_labels = np.int_(np.take(sub_labels, current_speed_indices, axis=0))[:,0]\n",
    "    print(f'Speed ID: {current_speed_ID}')\n",
    "    Evaluation_Metrics(current_speed_Y_Test, current_speed_Y_Pred, current_mode_sub_labels, weight_array)\n",
    "    print('')"
   ]
  },
  {
   "cell_type": "markdown",
   "metadata": {},
   "source": [
    "# Computational Cost Analysis"
   ]
  },
  {
   "cell_type": "markdown",
   "metadata": {},
   "source": [
    "Load Model"
   ]
  },
  {
   "cell_type": "code",
   "execution_count": null,
   "metadata": {},
   "outputs": [],
   "source": [
    "SMDisAgg_Network = UNet(signal_length, model_depth, num_channel, model_width, kernel_size, problem_type=problem_type, output_nums=output_nums, \n",
    "                      ds=D_S, ae=A_E, ag=A_G, t=t, is_transconv=is_transconv, q=q).UNet3P()\n",
    "if D_S == 0:\n",
    "    SMDisAgg_Network.compile(loss=tf.keras.losses.MeanAbsoluteError(), optimizer=tf.keras.optimizers.Adam(learning_rate=1e-4), metrics=tf.keras.metrics.MeanSquaredError())\n",
    "elif D_S == 1:\n",
    "    SMDisAgg_Network.compile(loss=tf.keras.losses.MeanAbsoluteError(), optimizer=tf.keras.optimizers.Adam(learning_rate=1e-4), metrics=tf.keras.metrics.MeanSquaredError(), loss_weights= loss_weights)"
   ]
  },
  {
   "cell_type": "code",
   "execution_count": null,
   "metadata": {},
   "outputs": [],
   "source": [
    "# Load Model and Predict\n",
    "save_directory = f'trained_models/{model_name}/'+model_name+'_'+str(signal_length)+'_'+str(model_width)+'_'+str(num_channel)+'_'+str(D_S)+'.h5'\n",
    "SMDisAgg_Network.load_weights(save_directory)"
   ]
  },
  {
   "cell_type": "code",
   "execution_count": null,
   "metadata": {},
   "outputs": [],
   "source": [
    "import time\n",
    "# Load Test Set\n",
    "Test_Data = torch.load('Test_Set.pt')\n",
    "X_Test = Test_Data['X']\n",
    "Y_Test = Test_Data['Y']\n",
    "print(X_Test.shape)\n",
    "# X_Test = X_Test[0:1,:,:]\n",
    "# Predict\n",
    "start_time= time.time() # set the time at which inference started\n",
    "for i in range (0,39):\n",
    "    Y_Pred = SMDisAgg_Network.predict(X_Test[i:i+1,:,:], verbose=0)    \n",
    "stop_time = time.time()\n",
    "duration = stop_time - start_time\n",
    "hours = (duration//3600)/39\n",
    "minutes = (duration - (hours * 3600)) // 60\n",
    "seconds = duration - ((hours * 3600) + (minutes * 60))\n",
    "\n",
    "msg = f'training elapsed time was {str(hours)} hours, {minutes:4.1f} minutes, {seconds:4.2f} seconds)'\n",
    "print (msg, flush=True) # print out inferenceduration time"
   ]
  },
  {
   "cell_type": "code",
   "execution_count": null,
   "metadata": {},
   "outputs": [],
   "source": [
    "import numpy as np\n",
    "\n",
    "trainable_params = np.sum([np.prod(v.get_shape()) for v in SMDisAgg_Network.trainable_weights])\n",
    "non_trainable_params = np.sum([np.prod(v.get_shape()) for v in SMDisAgg_Network.non_trainable_weights])\n",
    "total_params = trainable_params + non_trainable_params\n",
    "    \n",
    "print(trainable_params)\n",
    "print(non_trainable_params)\n",
    "print(total_params)"
   ]
  },
  {
   "cell_type": "code",
   "execution_count": null,
   "metadata": {},
   "outputs": [],
   "source": [
    "SMDisAgg_Network.save('my_model.keras')"
   ]
  },
  {
   "cell_type": "markdown",
   "metadata": {
    "id": "WesN7p7AeYK4"
   },
   "source": [
    "# Infinite Loop to Keep the Tab Alive"
   ]
  },
  {
   "cell_type": "code",
   "execution_count": null,
   "metadata": {
    "id": "0HqQ3O6XeZ1f"
   },
   "outputs": [],
   "source": [
    "while True:\n",
    "    pass"
   ]
  }
 ],
 "metadata": {
  "accelerator": "GPU",
  "colab": {
   "collapsed_sections": [
    "tgW7r0C9TuZk",
    "Kir80l1FKPXB",
    "vMHdM26iekBm",
    "VUciLEJeyvyN",
    "WesN7p7AeYK4"
   ],
   "machine_shape": "hm",
   "name": "1D_CNN_Segmentation_End2End_Pipeline.ipynb",
   "provenance": []
  },
  "kernelspec": {
   "display_name": "wsl_miniconda_env1",
   "language": "python",
   "name": "python3"
  },
  "language_info": {
   "codemirror_mode": {
    "name": "ipython",
    "version": 3
   },
   "file_extension": ".py",
   "mimetype": "text/x-python",
   "name": "python",
   "nbconvert_exporter": "python",
   "pygments_lexer": "ipython3",
   "version": "3.11.5"
  }
 },
 "nbformat": 4,
 "nbformat_minor": 1
}
